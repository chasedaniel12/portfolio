{
 "cells": [
  {
   "cell_type": "markdown",
   "id": "5e25cbe9",
   "metadata": {},
   "source": [
    "# Unit 4 Career Preparation: Technical Assessment\n",
    "## Problem 1"
   ]
  },
  {
   "cell_type": "markdown",
   "id": "24b8ca39",
   "metadata": {},
   "source": [
    "Write a script that:\n",
    "* Reads the file `problem1.txt`.\n",
    "* Adds each line to a new list.\n",
    "* Prints the new list."
   ]
  },
  {
   "cell_type": "code",
   "execution_count": 64,
   "id": "55350ae5",
   "metadata": {},
   "outputs": [
    {
     "name": "stdout",
     "output_type": "stream",
     "text": [
      "['item1\\n', 'item2\\n', 'item3\\n', 'item4\\n', 'item5\\n']\n"
     ]
    }
   ],
   "source": [
    "New_List = open(\"problem1.txt\").readlines()\n",
    "print(New_List)"
   ]
  },
  {
   "cell_type": "markdown",
   "id": "62a4d05b",
   "metadata": {},
   "source": [
    "## Problem 2\n",
    "\n",
    "Write a script that:\n",
    "*  Reads the file `problem2.txt`.\n",
    "*  Counts how many times 192.168.1.1 appears in the file.\n",
    "*  Prints the result."
   ]
  },
  {
   "cell_type": "code",
   "execution_count": 120,
   "id": "0588da9b",
   "metadata": {},
   "outputs": [
    {
     "name": "stdout",
     "output_type": "stream",
     "text": [
      "5\n",
      "IP Address 192.168.1.1 appears five times\n"
     ]
    }
   ],
   "source": [
    "import re\n",
    "with open(\"problem2.txt\", \"r\") as f:\n",
    "    ip_count = {}\n",
    "    ip_file = f.read()\n",
    "#opens the text file and reads it\n",
    "    ip_list = ip_file.splitlines()\n",
    "#separates the list\n",
    "    for ip in ip_list:\n",
    "        ip = ip.strip()\n",
    "        if ip in ip_count:\n",
    "            ip_count[ip] += 1\n",
    "        else:\n",
    "            ip_count[ip] =1\n",
    "print(ip_count.get(\"192.168.1.1\", {})) \n",
    "print(\"IP Address 192.168.1.1 appears five times\")"
   ]
  },
  {
   "cell_type": "markdown",
   "id": "a8f18cc3",
   "metadata": {},
   "source": [
    "## Problem 3\n",
    "Write a script using a function (`dedupe`) that:\n",
    "* Takes a list `l = [1,5,7,2,4,3,5,1,6,2,6]`.\n",
    "* Returns a new list that contains all of the elements from the first list, excluding duplicates."
   ]
  },
  {
   "cell_type": "code",
   "execution_count": 36,
   "id": "2e9726dc",
   "metadata": {},
   "outputs": [
    {
     "name": "stdout",
     "output_type": "stream",
     "text": [
      "The new list after removing duplicates : [1, 2, 3, 4, 5, 6, 7]\n"
     ]
    }
   ],
   "source": [
    "duplicate_list = [1,5,7,2,4,3,5,1,6,2,6]\n",
    "#duplicate list\n",
    "new_list = []\n",
    "#create new list\n",
    "for num in duplicate_list:\n",
    "    if num not in new_list:\n",
    "        new_list.append(num)\n",
    "#for loop that loops through the list and appends it\n",
    "\n",
    "print(\"The new list after removing duplicates : \" + str(sorted(new_list)))\n"
   ]
  },
  {
   "cell_type": "markdown",
   "id": "35690b6d",
   "metadata": {},
   "source": [
    "## Problem 4\n",
    "\n",
    "Write a program (using a function) that:\n",
    "* Asks the user for a long string containing multiple words.\n",
    "* Prints back the same string, except with the words in reverse order.\n",
    "\n",
    "For example, if the user types the string: 'My name is robert', it will print 'robert is name My'."
   ]
  },
  {
   "cell_type": "code",
   "execution_count": 21,
   "id": "f2698a06",
   "metadata": {},
   "outputs": [
    {
     "name": "stdin",
     "output_type": "stream",
     "text": [
      "Please enter a sentence My name is Chase\n"
     ]
    },
    {
     "name": "stdout",
     "output_type": "stream",
     "text": [
      "Chase is name My\n"
     ]
    }
   ],
   "source": [
    "string = input(\"Please enter a sentence\")\n",
    "#inputs sentence\n",
    "s = string.split()[::-1]\n",
    "#separates the words and reverses\n",
    "new_list = []\n",
    "#creates a new list\n",
    "for i in s:\n",
    "    new_list.append(i)\n",
    "#runs a for loop to iterate through the list and append changes\n",
    "print(\" \".join(new_list))\n",
    "#prints the new output"
   ]
  },
  {
   "cell_type": "markdown",
   "id": "131ef586",
   "metadata": {},
   "source": [
    "## Problem 5\n",
    "\n",
    "Write a script that:\n",
    "* Opens the file `problem5.txt`.\n",
    "* Counts each port and puts the results in a dictionary."
   ]
  },
  {
   "cell_type": "code",
   "execution_count": 1,
   "id": "c16fcb2a",
   "metadata": {},
   "outputs": [
    {
     "name": "stdout",
     "output_type": "stream",
     "text": [
      "{'80': 7, '443': 3, '22': 5, '21': 2, '25': 3, '389': 1, '3389': 1, '445': 3, '': 1}\n"
     ]
    }
   ],
   "source": [
    "import re\n",
    "with open(\"problem5.txt\", \"r\") as f:\n",
    "    count_ports = {}\n",
    "    port_file = f.read()\n",
    "#opens the text file and reads it\n",
    "    port_list = port_file.splitlines()\n",
    "#separates the list\n",
    "    for port in port_list:\n",
    "        port = port.strip()\n",
    "        if port in count_ports:\n",
    "            count_ports[port] += 1\n",
    "        else:\n",
    "            count_ports[port] = 1\n",
    "print(count_ports)\n",
    "\n"
   ]
  },
  {
   "cell_type": "code",
   "execution_count": null,
   "id": "c9a6b161-d961-4ac8-aadf-9f12cd74c52d",
   "metadata": {},
   "outputs": [],
   "source": []
  }
 ],
 "metadata": {
  "kernelspec": {
   "display_name": "Python 3 [3.10]",
   "language": "python",
   "name": "python3"
  },
  "language_info": {
   "codemirror_mode": {
    "name": "ipython",
    "version": 3
   },
   "file_extension": ".py",
   "mimetype": "text/x-python",
   "name": "python",
   "nbconvert_exporter": "python",
   "pygments_lexer": "ipython3",
   "version": "3.10.2"
  }
 },
 "nbformat": 4,
 "nbformat_minor": 5
}
